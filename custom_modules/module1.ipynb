{
 "cells": [
  {
   "cell_type": "code",
   "execution_count": 26,
   "metadata": {},
   "outputs": [
    {
     "name": "stdout",
     "output_type": "stream",
     "text": [
      "<class 'numpy.lib.npyio.NpzFile'>\n",
      "['variables', 'parameters']\n"
     ]
    }
   ],
   "source": [
    "path1 = \"/uscms_data/d3/mkim/MKWorkingArea/CMSSW_10_2_0/src/JL/Melrose/P2_CMSSW_10_1_5/src/L1TMuonSimulations/Analyzers/test7/histos_tba.20.npz\"\n",
    "#load_input_file(path1):\n",
    "import numpy as np\n",
    "file_in = np.load(path1)\n",
    "print(type(file_in))\n",
    "print(file_in.keys())\n",
    "arr_X = file_in['variables']\n",
    "arr_y = file_in['parameters']\n",
    "csc_phi = arr_X[:,0:5]\n",
    "csc_theta = arr_X[:,0+12:5+12]\n",
    "# return cnn_input, arr_y[:,0]\n",
    "# hits in all 4 stations\n",
    "\n",
    "t1 = ~np.isnan(csc_phi[:,0]) # ME1/1\n",
    "#t2 = ~np.isnan(csc_phi[:,1])\n",
    "#t3 = np.logical_or(t1,t2)\n",
    "#del t1,t2\n",
    "t4 = ~np.isnan(csc_phi[:,2]) # ME2/X\n",
    "t5 = ~np.isnan(csc_phi[:,3]) # ME3/X\n",
    "t6 = np.logical_and(t4,t5) \n",
    "# del t4,t5\n",
    "t7 = np.logical_and(t1,t6) # ME2/X,3/X,1/1\n",
    "# del t3,t6\n",
    "t8 = ~np.isnan(csc_phi[:,4])\n",
    "t9 = np.logical_and(t7,t8) # ME1/1, 2, 3, 4\n",
    "# del t7,t8\n",
    "\n",
    "csc_phi[np.isnan(csc_phi[:,0]),0] = 1\n",
    "csc_phi[np.isnan(csc_phi[:,1]),1] = 1\n",
    "csc_phi[:,1] = csc_phi[:,0]*csc_phi[:,1]\n",
    "csc_phi2 = np.delete(csc_phi, 1, 1)\n",
    "#csc_phi2[t9]\n",
    "csc_theta[np.isnan(csc_theta[:,0]),0] = 1\n",
    "csc_theta[np.isnan(csc_theta[:,1]),1] = 1\n",
    "csc_theta[:,1] = csc_theta[:,0]*csc_theta[:,1]\n",
    "#csc_theta[t9]\n",
    "csc_theta2 = np.delete(csc_theta, 1, 1)\n",
    "mm = len(csc_phi2[t9])\n",
    "csc_phi3 = csc_phi2[t9].reshape(mm,4,1)\n",
    "csc_theta3 = csc_theta2[t9].reshape(mm,4,1)\n",
    "cnn_input = np.insert(csc_theta3.astype(int),[0], csc_phi3.astype(int), axis=2)\n",
    "#cnn_input[3]\n",
    "#return cnn_input, arr_y[t9,0]"
   ]
  },
  {
   "cell_type": "code",
   "execution_count": 30,
   "metadata": {},
   "outputs": [
    {
     "data": {
      "text/plain": [
       "array([[3279,   27],\n",
       "       [3442,   26],\n",
       "       [3488,   26],\n",
       "       [3504,   26]])"
      ]
     },
     "execution_count": 30,
     "metadata": {},
     "output_type": "execute_result"
    }
   ],
   "source": [
    "cnn_input[18]"
   ]
  },
  {
   "cell_type": "code",
   "execution_count": null,
   "metadata": {},
   "outputs": [],
   "source": []
  }
 ],
 "metadata": {
  "kernelspec": {
   "display_name": "Python (myenv)",
   "language": "python",
   "name": "myenv"
  },
  "language_info": {
   "codemirror_mode": {
    "name": "ipython",
    "version": 2
   },
   "file_extension": ".py",
   "mimetype": "text/x-python",
   "name": "python",
   "nbconvert_exporter": "python",
   "pygments_lexer": "ipython2",
   "version": "2.7.11"
  }
 },
 "nbformat": 4,
 "nbformat_minor": 2
}
