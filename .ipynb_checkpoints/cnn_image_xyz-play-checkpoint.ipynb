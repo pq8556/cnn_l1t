{
 "cells": [
  {
   "cell_type": "markdown",
   "metadata": {},
   "source": [
    "ME1/1 ME1/2 2/X   3/X   4/X\n",
    "5680, 6860, 7910, 9115, 10020 (mm)\n",
    "5.68  6.86  7.91  9.115 10.020\n",
    "\n",
    "\n"
   ]
  },
  {
   "cell_type": "markdown",
   "metadata": {},
   "source": [
    "z*tan(theta)*cos(phi)"
   ]
  },
  {
   "cell_type": "code",
   "execution_count": 4,
   "metadata": {},
   "outputs": [
    {
     "name": "stdout",
     "output_type": "stream",
     "text": [
      "fnal cmslpc computer cluster\n",
      "\n",
      "/uscms_data/d3/mkim/MKWorkingArea/CMSSW_10_2_0/src/JL/Melrose/P2_CMSSW_10_1_5/src/L1TMuonSimulations/Analyzers/test7/histos_tba.20.npz\n",
      "<class 'numpy.lib.npyio.NpzFile'>\n",
      "['variables', 'parameters']\n"
     ]
    }
   ],
   "source": [
    "import PIL\n",
    "\n",
    "from numpy import log, tan, cos, sin, arctan\n",
    "from math import pi, sqrt\n",
    "\n",
    "from scipy.interpolate import interp1d\n",
    "from scipy.interpolate import Rbf\n",
    "\n",
    "import sys\n",
    "sys.path.append('./custom_modules/') \n",
    "import module1 as md\n",
    "import numpy as np\n",
    "import matplotlib.pyplot as plt\n",
    "\n",
    "#%matplotlib inline\n",
    "!cat configs/filepath.txt\n",
    "X, y = md.load_input_file(\"/uscms_data/d3/mkim/MKWorkingArea/CMSSW_10_2_0/src/JL/Melrose/P2_CMSSW_10_1_5/src/L1TMuonSimulations/Analyzers/test7/histos_tba.20.npz\")"
   ]
  },
  {
   "cell_type": "code",
   "execution_count": 5,
   "metadata": {},
   "outputs": [],
   "source": [
    "z11 = 5.68\n",
    "z12 = 6.86\n",
    "z20 = 6.86\n",
    "z30 = 7.91\n",
    "z40 = 10.020"
   ]
  },
  {
   "cell_type": "code",
   "execution_count": 6,
   "metadata": {},
   "outputs": [],
   "source": [
    "# X2 is (m, f1, f2) m sample size, f1 station number, f2 phi, theta\n",
    "X0=X.astype(float) \n",
    "X1 = X0.copy()\n",
    "X1[:,:,0] = X0[:,:,0]*(1./16)*(pi/180)\n",
    "X2 = X1.copy()\n",
    "X2[:,:,1] = (X1[:,:,1]*1./4+10)*(pi/180)\n",
    "\n",
    "# (m, station 1: x,y,z, station2: x, y, z, ....)\n",
    "X_xyz = np.zeros((X2.shape[0],12),dtype='float')\n",
    "\n",
    "# x for station 1,2,3,4\n",
    "i_s = 0\n",
    "X_xyz[:,0+4*i_s] = z11*tan(X2[:,0,1])*cos(X2[:,0,0])\n",
    "X_xyz[:,1+4*i_s] = z20*tan(X2[:,1,1])*cos(X2[:,1,0])\n",
    "X_xyz[:,2+4*i_s] = z30*tan(X2[:,2,1])*cos(X2[:,2,0])\n",
    "X_xyz[:,3+4*i_s] = z40*tan(X2[:,3,1])*cos(X2[:,3,0])\n",
    "# y for station 1,2,3,4\n",
    "i_s = 1\n",
    "X_xyz[:,0+4*i_s] = z11*tan(X2[:,0,1])*sin(X2[:,0,0])\n",
    "X_xyz[:,1+4*i_s] = z20*tan(X2[:,1,1])*sin(X2[:,1,0])\n",
    "X_xyz[:,2+4*i_s] = z30*tan(X2[:,2,1])*sin(X2[:,2,0])\n",
    "X_xyz[:,3+4*i_s] = z40*tan(X2[:,3,1])*sin(X2[:,3,0])\n",
    "# z for station 1,2,3,4\n",
    "i_s = 2\n",
    "X_xyz[:,0+4*i_s] = z11\n",
    "X_xyz[:,1+4*i_s] = z20\n",
    "X_xyz[:,2+4*i_s] = z30\n",
    "X_xyz[:,3+4*i_s] = z40"
   ]
  },
  {
   "cell_type": "code",
   "execution_count": 23,
   "metadata": {},
   "outputs": [
    {
     "data": {
      "text/plain": [
       "1179356"
      ]
     },
     "execution_count": 23,
     "metadata": {},
     "output_type": "execute_result"
    }
   ],
   "source": [
    "X_xyz.shape[0]"
   ]
  },
  {
   "cell_type": "code",
   "execution_count": null,
   "metadata": {},
   "outputs": [
    {
     "name": "stdout",
     "output_type": "stream",
     "text": [
      "0\n",
      "1000\n",
      "2000\n",
      "3000\n",
      "4000\n",
      "5000\n",
      "6000\n",
      "7000\n",
      "8000\n"
     ]
    }
   ],
   "source": [
    "# process all samples\n",
    "for i in range(X_xyz.shape[0]):\n",
    "    # find center of mass\n",
    "    x_com = np.mean(X_xyz[i,0:4])\n",
    "    y_com = np.mean(X_xyz[i,0+4:4+4])\n",
    "    # find rotation angle\n",
    "    if x_com >= 0:\n",
    "        rotang = arctan(y_com/x_com)\n",
    "    elif x_com < 0:\n",
    "        rotang = arctan(y_com/x_com) + pi\n",
    "    # rotate (x, y)\n",
    "    rot_x = cos(rotang)*X_xyz[i,0:4]+sin(rotang)*X_xyz[i,0+4:4+4]\n",
    "    rot_y = -sin(rotang)*X_xyz[i,0:4]+cos(rotang)*X_xyz[i,0+4:4+4]\n",
    "    pt = round(1/y[i,0],1)\n",
    "    #plt.text(2,0.5, \"pt: %s GeV\"%pt, fontsize=12)\n",
    "    #plt.xlabel(\"x (M)\")\n",
    "    #plt.ylabel(\"y (M)\")\n",
    "    plt.hlines(0,-5,5)\n",
    "    plt.xlim(1,4)\n",
    "    plt.ylim(-0.5,0.5)\n",
    "    plt.axis('off')\n",
    "    rbf = Rbf(rot_x, rot_y)\n",
    "    xi = np.linspace(min(rot_x), max(rot_x), 101)\n",
    "    fi = rbf(xi)\n",
    "    plt.plot(rot_x, rot_y, 'bo')\n",
    "    plt.plot(xi, fi, 'g', linewidth=10)\n",
    "    plt.savefig(\"./imgs/im_xy_%d\"%i+\".jpg\", dpi=10, bbox_inches='tight')\n",
    "    if i % 1000 == 0:\n",
    "        print(i)\n",
    "    plt.clf()"
   ]
  },
  {
   "cell_type": "code",
   "execution_count": null,
   "metadata": {},
   "outputs": [],
   "source": [
    "img = PIL.Image.open(\"im_xy_210.png\").convert(\"L\")\n",
    "imgarr = np.array(img)"
   ]
  },
  {
   "cell_type": "code",
   "execution_count": null,
   "metadata": {},
   "outputs": [],
   "source": [
    "imgarr.shape[0]"
   ]
  },
  {
   "cell_type": "code",
   "execution_count": null,
   "metadata": {},
   "outputs": [],
   "source": [
    "plt.imshow(imgarr)"
   ]
  },
  {
   "cell_type": "code",
   "execution_count": null,
   "metadata": {},
   "outputs": [],
   "source": [
    "for i in range(0,X2.shape[0]):\n",
    "    #if (1/y[i,0]) < 15: continue\n",
    "    #if (1/y[i,0]) > 20: continue\n",
    "    #print(\"i :\",i,1/y[i,0] )\n",
    "    phi11 = X2[i,0,0]\n",
    "    tht11 = X2[i,0,1]\n",
    "    \n",
    "    phi20 = X2[i,1,0]\n",
    "    tht20 = X2[i,1,1]\n",
    "    \n",
    "    phi30 = X2[i,2,0]\n",
    "    tht30 = X2[i,2,1]\n",
    "    \n",
    "    phi40 = X2[i,3,0]\n",
    "    tht40 = X2[i,3,1]\n",
    "    pt = round(1/y[i,0],1)\n",
    "    #print(\"pt: \",pt)\n",
    "    l_x = [z11*tan(tht11)*cos(phi11), z20*tan(tht20)*cos(phi20), z30*tan(tht30)*cos(phi30), z40*tan(tht40)*cos(phi40)]\n",
    "    l_y = [z11*tan(tht11)*sin(phi11), z20*tan(tht20)*sin(phi20), z30*tan(tht30)*sin(phi30), z40*tan(tht40)*sin(phi40)]\n",
    "    l_z = [z11, z20, z30, z40]\n",
    "    \n",
    "    \n",
    "    \n",
    "    #plt.scatter(l_x,l_y)\n",
    "    #plt.text(2,4, \"pt: %s GeV\"%pt, fontsize=12)\n",
    "    #plt.xlabel(\"x (M)\")\n",
    "    #plt.ylabel(\"y (M)\")\n",
    "    #plt.hlines(0,-5,5)\n",
    "    #plt.vlines(0,-5,5)\n",
    "    #plt.xlim(-5,5)\n",
    "    #plt.ylim(-5,5)\n",
    "    ##print(\"pt: \",1/y[i,0])\n",
    "    #plt.savefig(\"im_xy_%d\"%i)\n",
    "    #plt.clf()\n",
    "    #\n",
    "    #plt.scatter(l_z, l_x)\n",
    "    #plt.text(7,4, \"pt: %s GeV\"%pt, fontsize=12)\n",
    "    #plt.xlabel(\"z (M)\")\n",
    "    #plt.ylabel(\"x (M)\")\n",
    "    #plt.hlines(0,0,10)\n",
    "    #plt.xlim(0,10)\n",
    "    #plt.ylim(-5,5)\n",
    "    #plt.savefig(\"im_zx_%d\"%i)\n",
    "    #plt.clf()\n",
    "    #\n",
    "    #plt.scatter(l_z, l_y)\n",
    "    #plt.text(7,4, \"pt: %s GeV\"%pt, fontsize=12)\n",
    "    #plt.xlabel(\"z (M)\")\n",
    "    #plt.ylabel(\"y (M)\")\n",
    "    #plt.hlines(0,0,10)\n",
    "    #plt.xlim(0,10)\n",
    "    #plt.ylim(-5,5)\n",
    "    #plt.savefig(\"im_zy_%d\"%i)\n",
    "    #plt.clf()"
   ]
  },
  {
   "cell_type": "code",
   "execution_count": null,
   "metadata": {},
   "outputs": [],
   "source": [
    "i=711\n",
    "print(\"i :\",i,1/y[i,0] )\n",
    "phi11 = X2[i,0,0]\n",
    "tht11 = X2[i,0,1]\n",
    "\n",
    "phi20 = X2[i,1,0]\n",
    "tht20 = X2[i,1,1]\n",
    "\n",
    "phi30 = X2[i,2,0]\n",
    "tht30 = X2[i,2,1]\n",
    "\n",
    "phi40 = X2[i,3,0]\n",
    "tht40 = X2[i,3,1]\n",
    "pt = round(1/y[i,0],1)\n",
    "#print(\"pt: \",pt)\n",
    "l_x = [z11*tan(tht11)*cos(phi11), z20*tan(tht20)*cos(phi20), z30*tan(tht30)*cos(phi30), z40*tan(tht40)*cos(phi40)]\n",
    "l_y = [z11*tan(tht11)*sin(phi11), z20*tan(tht20)*sin(phi20), z30*tan(tht30)*sin(phi30), z40*tan(tht40)*sin(phi40)]\n",
    "l_z = [z11, z20, z30, z40]\n",
    "\n",
    "\n",
    "plt.scatter(l_x,l_y)\n",
    "plt.text(2,4, \"pt: %s GeV\"%pt, fontsize=12)\n",
    "plt.xlabel(\"x (M)\")\n",
    "plt.ylabel(\"y (M)\")\n",
    "plt.hlines(0,-5,5)\n",
    "plt.vlines(0,-5,5)\n",
    "plt.xlim(-5,5)\n",
    "plt.ylim(-5,5)\n",
    "#print(\"pt: \",1/y[i,0])\n",
    "plt.savefig(\"im_xy_%d\"%i)\n",
    "plt.clf()\n",
    "\n",
    "plt.scatter(l_z, l_x)\n",
    "plt.text(7,4, \"pt: %s GeV\"%pt, fontsize=12)\n",
    "plt.xlabel(\"z (M)\")\n",
    "plt.ylabel(\"x (M)\")\n",
    "plt.hlines(0,0,10)\n",
    "plt.xlim(0,10)\n",
    "plt.ylim(-5,5)\n",
    "plt.savefig(\"im_zx_%d\"%i)\n",
    "plt.clf()\n",
    "\n",
    "plt.scatter(l_z, l_y)\n",
    "plt.text(7,4, \"pt: %s GeV\"%pt, fontsize=12)\n",
    "plt.xlabel(\"z (M)\")\n",
    "plt.ylabel(\"y (M)\")\n",
    "plt.hlines(0,0,10)\n",
    "plt.xlim(0,10)\n",
    "plt.ylim(-5,5)\n",
    "plt.savefig(\"im_zy_%d\"%i)\n",
    "plt.clf()\n",
    "\n",
    "print(1/y[i,0])\n",
    "print(l_x)\n",
    "print(l_y)\n",
    "sumu = 0\n",
    "for i in range(4):\n",
    "    sumu += sqrt(l_x[0]**2+l_y[0]**2)\n",
    "print(sumu/4)"
   ]
  },
  {
   "cell_type": "code",
   "execution_count": null,
   "metadata": {},
   "outputs": [],
   "source": []
  },
  {
   "cell_type": "code",
   "execution_count": null,
   "metadata": {},
   "outputs": [],
   "source": []
  },
  {
   "cell_type": "code",
   "execution_count": null,
   "metadata": {},
   "outputs": [],
   "source": [
    "X2"
   ]
  },
  {
   "cell_type": "code",
   "execution_count": null,
   "metadata": {},
   "outputs": [],
   "source": []
  },
  {
   "cell_type": "code",
   "execution_count": null,
   "metadata": {},
   "outputs": [],
   "source": [
    "np.max(X[:,:,0]*1/16)"
   ]
  },
  {
   "cell_type": "code",
   "execution_count": null,
   "metadata": {},
   "outputs": [],
   "source": [
    "np.min(X[:,:,0]*1/16)"
   ]
  },
  {
   "cell_type": "code",
   "execution_count": null,
   "metadata": {},
   "outputs": [],
   "source": [
    "th_offset = 10\n",
    "\n",
    "i=20\n",
    "\n",
    "print(y[i,2])\n",
    "print(-log(tan((np.max(X[i,:,1]*1./4+th_offset)/2)*(pi/180))))\n",
    "print(-log(tan((np.min(X[i,:,1]*1./4+th_offset)/2)*(pi/180))))"
   ]
  },
  {
   "cell_type": "code",
   "execution_count": null,
   "metadata": {},
   "outputs": [],
   "source": []
  },
  {
   "cell_type": "code",
   "execution_count": null,
   "metadata": {},
   "outputs": [],
   "source": [
    "np.max(X[i,:,1]*1./4+th_offset)"
   ]
  },
  {
   "cell_type": "code",
   "execution_count": null,
   "metadata": {},
   "outputs": [],
   "source": [
    "np.min(X[i,:,1]*1./4+th_offset)"
   ]
  },
  {
   "cell_type": "code",
   "execution_count": null,
   "metadata": {},
   "outputs": [],
   "source": [
    "from math import pi\n",
    "\n",
    "from numpy import log, tan\n",
    "\n",
    "-log(tan((np.max(X[i,:,1]*1./4+th_offset)/2)*(pi/180)))"
   ]
  },
  {
   "cell_type": "code",
   "execution_count": null,
   "metadata": {},
   "outputs": [],
   "source": [
    "-log(tan((np.min(X[i,:,1]*1./4+th_offset)/2)*(pi/180)))"
   ]
  },
  {
   "cell_type": "code",
   "execution_count": null,
   "metadata": {},
   "outputs": [],
   "source": [
    "X[0,0,0]*(1./16)"
   ]
  },
  {
   "cell_type": "code",
   "execution_count": null,
   "metadata": {},
   "outputs": [],
   "source": [
    "X[0,0,1]*(1./4)"
   ]
  },
  {
   "cell_type": "code",
   "execution_count": null,
   "metadata": {},
   "outputs": [],
   "source": []
  }
 ],
 "metadata": {
  "kernelspec": {
   "display_name": "Python 2",
   "language": "python",
   "name": "python2"
  },
  "language_info": {
   "codemirror_mode": {
    "name": "ipython",
    "version": 2
   },
   "file_extension": ".py",
   "mimetype": "text/x-python",
   "name": "python",
   "nbconvert_exporter": "python",
   "pygments_lexer": "ipython2",
   "version": "2.7.14+"
  }
 },
 "nbformat": 4,
 "nbformat_minor": 2
}
